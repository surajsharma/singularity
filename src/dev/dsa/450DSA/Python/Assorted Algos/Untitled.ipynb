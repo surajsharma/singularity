{
 "cells": [
  {
   "cell_type": "code",
   "execution_count": 8,
   "id": "983b0fb5",
   "metadata": {},
   "outputs": [
    {
     "name": "stdout",
     "output_type": "stream",
     "text": [
      "1594323\n",
      "1594323\n"
     ]
    }
   ],
   "source": [
    "print(3**4 * 3**9)\n",
    "print(3**(4+9))"
   ]
  },
  {
   "cell_type": "code",
   "execution_count": null,
   "id": "ab98a0b2",
   "metadata": {},
   "outputs": [],
   "source": [
    "NUMBER, LPARENT = NULTIPLA"
   ]
  }
 ],
 "metadata": {
  "kernelspec": {
   "display_name": "Python 3 (ipykernel)",
   "language": "python",
   "name": "python3"
  },
  "language_info": {
   "codemirror_mode": {
    "name": "ipython",
    "version": 3
   },
   "file_extension": ".py",
   "mimetype": "text/x-python",
   "name": "python",
   "nbconvert_exporter": "python",
   "pygments_lexer": "ipython3",
   "version": "3.10.6"
  }
 },
 "nbformat": 4,
 "nbformat_minor": 5
}
