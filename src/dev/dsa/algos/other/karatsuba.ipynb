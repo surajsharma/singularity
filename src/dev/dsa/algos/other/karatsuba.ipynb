{
 "cells": [
  {
   "cell_type": "code",
   "execution_count": 109,
   "id": "540aa9e8-2145-4370-8d6d-9fa46aaf76da",
   "metadata": {},
   "outputs": [],
   "source": [
    "def karatsuba(x,y):\n",
    "\t\"\"\"Function to multiply 2 numbers in a more efficient manner than the grade school algorithm\"\"\"\n",
    "\tif len(str(x)) == 1 or len(str(y)) == 1:\n",
    "\t\treturn x*y\n",
    "\telse:\n",
    "\t\tn = max(len(str(x)),len(str(y)))\n",
    "\t\tnby2 = n / 2\n",
    "\t\t\n",
    "\t\ta = x / 10**(nby2)\n",
    "\t\tb = x % 10**(nby2)\n",
    "\t\tc = y / 10**(nby2)\n",
    "\t\td = y % 10**(nby2)\n",
    "\t\t\n",
    "\t\tac = karatsuba(a,c)\n",
    "\t\tbd = karatsuba(b,d)\n",
    "\t\tad_plus_bc = karatsuba(a+b,c+d) - ac - bd\n",
    "        \n",
    "        \t# this little trick, writing n as 2*nby2 takes care of both even and odd n\n",
    "\t\tprod = ac * 10**(2*nby2) + (ad_plus_bc * 10**nby2) + bd\n",
    "\n",
    "\t\treturn prod"
   ]
  },
  {
   "cell_type": "markdown",
   "id": "68d20611",
   "metadata": {},
   "source": [
    "this is markdown cell"
   ]
  },
  {
   "cell_type": "code",
   "execution_count": 110,
   "id": "00c5f3c2-b622-403e-afdd-a0f3430db572",
   "metadata": {},
   "outputs": [
    {
     "ename": "RecursionError",
     "evalue": "maximum recursion depth exceeded while getting the str of an object",
     "output_type": "error",
     "traceback": [
      "\u001b[0;31m---------------------------------------------------------------------------\u001b[0m",
      "\u001b[0;31mRecursionError\u001b[0m                            Traceback (most recent call last)",
      "Cell \u001b[0;32mIn[110], line 1\u001b[0m\n\u001b[0;32m----> 1\u001b[0m \u001b[38;5;28mprint\u001b[39m(\u001b[43mkaratsuba\u001b[49m\u001b[43m(\u001b[49m\u001b[38;5;241;43m9987\u001b[39;49m\u001b[43m,\u001b[49m\u001b[38;5;241;43m1234\u001b[39;49m\u001b[43m)\u001b[49m)\n",
      "Cell \u001b[0;32mIn[109], line 14\u001b[0m, in \u001b[0;36mkaratsuba\u001b[0;34m(x, y)\u001b[0m\n\u001b[1;32m     11\u001b[0m c \u001b[38;5;241m=\u001b[39m y \u001b[38;5;241m/\u001b[39m \u001b[38;5;241m10\u001b[39m\u001b[38;5;241m*\u001b[39m\u001b[38;5;241m*\u001b[39m(nby2)\n\u001b[1;32m     12\u001b[0m d \u001b[38;5;241m=\u001b[39m y \u001b[38;5;241m%\u001b[39m \u001b[38;5;241m10\u001b[39m\u001b[38;5;241m*\u001b[39m\u001b[38;5;241m*\u001b[39m(nby2)\n\u001b[0;32m---> 14\u001b[0m ac \u001b[38;5;241m=\u001b[39m \u001b[43mkaratsuba\u001b[49m\u001b[43m(\u001b[49m\u001b[43ma\u001b[49m\u001b[43m,\u001b[49m\u001b[43mc\u001b[49m\u001b[43m)\u001b[49m\n\u001b[1;32m     15\u001b[0m bd \u001b[38;5;241m=\u001b[39m karatsuba(b,d)\n\u001b[1;32m     16\u001b[0m ad_plus_bc \u001b[38;5;241m=\u001b[39m karatsuba(a\u001b[38;5;241m+\u001b[39mb,c\u001b[38;5;241m+\u001b[39md) \u001b[38;5;241m-\u001b[39m ac \u001b[38;5;241m-\u001b[39m bd\n",
      "Cell \u001b[0;32mIn[109], line 14\u001b[0m, in \u001b[0;36mkaratsuba\u001b[0;34m(x, y)\u001b[0m\n\u001b[1;32m     11\u001b[0m c \u001b[38;5;241m=\u001b[39m y \u001b[38;5;241m/\u001b[39m \u001b[38;5;241m10\u001b[39m\u001b[38;5;241m*\u001b[39m\u001b[38;5;241m*\u001b[39m(nby2)\n\u001b[1;32m     12\u001b[0m d \u001b[38;5;241m=\u001b[39m y \u001b[38;5;241m%\u001b[39m \u001b[38;5;241m10\u001b[39m\u001b[38;5;241m*\u001b[39m\u001b[38;5;241m*\u001b[39m(nby2)\n\u001b[0;32m---> 14\u001b[0m ac \u001b[38;5;241m=\u001b[39m \u001b[43mkaratsuba\u001b[49m\u001b[43m(\u001b[49m\u001b[43ma\u001b[49m\u001b[43m,\u001b[49m\u001b[43mc\u001b[49m\u001b[43m)\u001b[49m\n\u001b[1;32m     15\u001b[0m bd \u001b[38;5;241m=\u001b[39m karatsuba(b,d)\n\u001b[1;32m     16\u001b[0m ad_plus_bc \u001b[38;5;241m=\u001b[39m karatsuba(a\u001b[38;5;241m+\u001b[39mb,c\u001b[38;5;241m+\u001b[39md) \u001b[38;5;241m-\u001b[39m ac \u001b[38;5;241m-\u001b[39m bd\n",
      "    \u001b[0;31m[... skipping similar frames: karatsuba at line 14 (2968 times)]\u001b[0m\n",
      "Cell \u001b[0;32mIn[109], line 14\u001b[0m, in \u001b[0;36mkaratsuba\u001b[0;34m(x, y)\u001b[0m\n\u001b[1;32m     11\u001b[0m c \u001b[38;5;241m=\u001b[39m y \u001b[38;5;241m/\u001b[39m \u001b[38;5;241m10\u001b[39m\u001b[38;5;241m*\u001b[39m\u001b[38;5;241m*\u001b[39m(nby2)\n\u001b[1;32m     12\u001b[0m d \u001b[38;5;241m=\u001b[39m y \u001b[38;5;241m%\u001b[39m \u001b[38;5;241m10\u001b[39m\u001b[38;5;241m*\u001b[39m\u001b[38;5;241m*\u001b[39m(nby2)\n\u001b[0;32m---> 14\u001b[0m ac \u001b[38;5;241m=\u001b[39m \u001b[43mkaratsuba\u001b[49m\u001b[43m(\u001b[49m\u001b[43ma\u001b[49m\u001b[43m,\u001b[49m\u001b[43mc\u001b[49m\u001b[43m)\u001b[49m\n\u001b[1;32m     15\u001b[0m bd \u001b[38;5;241m=\u001b[39m karatsuba(b,d)\n\u001b[1;32m     16\u001b[0m ad_plus_bc \u001b[38;5;241m=\u001b[39m karatsuba(a\u001b[38;5;241m+\u001b[39mb,c\u001b[38;5;241m+\u001b[39md) \u001b[38;5;241m-\u001b[39m ac \u001b[38;5;241m-\u001b[39m bd\n",
      "Cell \u001b[0;32mIn[109], line 3\u001b[0m, in \u001b[0;36mkaratsuba\u001b[0;34m(x, y)\u001b[0m\n\u001b[1;32m      1\u001b[0m \u001b[38;5;28;01mdef\u001b[39;00m \u001b[38;5;21mkaratsuba\u001b[39m(x,y):\n\u001b[1;32m      2\u001b[0m \u001b[38;5;250m\t\u001b[39m\u001b[38;5;124;03m\"\"\"Function to multiply 2 numbers in a more efficient manner than the grade school algorithm\"\"\"\u001b[39;00m\n\u001b[0;32m----> 3\u001b[0m \t\u001b[38;5;28;01mif\u001b[39;00m \u001b[38;5;28mlen\u001b[39m(\u001b[38;5;28;43mstr\u001b[39;49m\u001b[43m(\u001b[49m\u001b[43mx\u001b[49m\u001b[43m)\u001b[49m) \u001b[38;5;241m==\u001b[39m \u001b[38;5;241m1\u001b[39m \u001b[38;5;129;01mor\u001b[39;00m \u001b[38;5;28mlen\u001b[39m(\u001b[38;5;28mstr\u001b[39m(y)) \u001b[38;5;241m==\u001b[39m \u001b[38;5;241m1\u001b[39m:\n\u001b[1;32m      4\u001b[0m \t\t\u001b[38;5;28;01mreturn\u001b[39;00m x\u001b[38;5;241m*\u001b[39my\n\u001b[1;32m      5\u001b[0m \t\u001b[38;5;28;01melse\u001b[39;00m:\n",
      "\u001b[0;31mRecursionError\u001b[0m: maximum recursion depth exceeded while getting the str of an object"
     ]
    }
   ],
   "source": [
    "print(karatsuba(9987,1234))"
   ]
  }
 ],
 "metadata": {
  "kernelspec": {
   "display_name": "Python 3 (ipykernel)",
   "language": "python",
   "name": "python3"
  },
  "language_info": {
   "codemirror_mode": {
    "name": "ipython",
    "version": 3
   },
   "file_extension": ".py",
   "mimetype": "text/x-python",
   "name": "python",
   "nbconvert_exporter": "python",
   "pygments_lexer": "ipython3",
   "version": "3.10.12"
  }
 },
 "nbformat": 4,
 "nbformat_minor": 5
}
