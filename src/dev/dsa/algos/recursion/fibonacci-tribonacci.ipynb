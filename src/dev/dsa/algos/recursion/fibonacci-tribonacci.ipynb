{
 "cells": [
  {
   "cell_type": "markdown",
   "id": "81b67d29",
   "metadata": {},
   "source": [
    "## Fibonacci the simple way\n",
    "####  start with a list of `[0,1]` and keep appending the sum of last two indexes \n",
    "#### `n-1+n-2` in a loop from 2 to n+1"
   ]
  },
  {
   "cell_type": "code",
   "execution_count": null,
   "id": "ad7ecfef",
   "metadata": {},
   "outputs": [],
   "source": [
    "def fib(n):\n",
    "    f = [0,1]\n",
    "#     take the first two fibs so we have f[0] and f[1]\n",
    "\n",
    "    for i in range(2,n+1):\n",
    "#         loop from f[2] to f[n+1]\n",
    "\n",
    "        f.append(f[i-1]+f[i-2])\n",
    "#     append to the lost the sum of last two f\n",
    "\n",
    "    return f[n]\n",
    "# return the sum at n\n",
    "\n",
    "# 0, 1, 1, 2, 3\n",
    "print(fib(9))\n",
    "print(fib(900))\n",
    "print(fib(2))\n",
    "print(fib(4))"
   ]
  },
  {
   "cell_type": "markdown",
   "id": "109c6253",
   "metadata": {},
   "source": [
    "## Fibonacci memoized\n",
    "#### - return 1 for `n=1`, 0 for `n=0`, call the fn with an empty dictionary\n",
    "#### - if `n` is found in dictionary, return `dic[n]` else make `dic[n]` = `f(n-1, dic)+f(n-2, dic)`\n",
    "#### - return `dic[n]`"
   ]
  },
  {
   "cell_type": "code",
   "execution_count": null,
   "id": "b3f5d55f",
   "metadata": {},
   "outputs": [],
   "source": [
    "def _fib(n, memo):\n",
    "    \n",
    "    if n == 1:\n",
    "        return 1\n",
    "\n",
    "    if n == 0:\n",
    "        return 0\n",
    "\n",
    "    if n in memo:\n",
    "        return memo[n]\n",
    "\n",
    "    memo[n] = _fib(n-1, memo) + _fib(n-2, memo)\n",
    "    return memo[n]\n",
    "\n",
    "print(_fib(9,{}))\n",
    "print(_fib(90,{}))\n",
    "print(_fib(2,{}))\n",
    "print(_fib(4,{}))"
   ]
  },
  {
   "cell_type": "markdown",
   "id": "aea1cbdf",
   "metadata": {},
   "source": [
    "## Tribonacci - sum of last 3 numbers\n",
    "#### using the same memoised approach"
   ]
  },
  {
   "cell_type": "code",
   "execution_count": null,
   "id": "a7d38b94",
   "metadata": {},
   "outputs": [],
   "source": [
    "def trib(n):\n",
    "    return _trib(n, {})\n",
    "\n",
    "def _trib(n, memo):\n",
    "    if n == 0:\n",
    "        return 0\n",
    "\n",
    "    if n == 1:\n",
    "        return 1\n",
    "\n",
    "    if n == 2:\n",
    "        return 1\n",
    "\n",
    "    if n in memo:\n",
    "        return memo[n]\n",
    "\n",
    "    memo[n] = _trib(n-1, memo) + _trib(n-2, memo) + _trib(n-3, memo)\n",
    "    return memo[n]\n",
    "\n",
    "print(trib(2), trib(3), trib(4), trib(10))\n"
   ]
  },
  {
   "cell_type": "markdown",
   "id": "0cfc93db",
   "metadata": {},
   "source": [
    "## Tribonacci using list"
   ]
  },
  {
   "cell_type": "code",
   "execution_count": null,
   "id": "8fbebf65",
   "metadata": {},
   "outputs": [],
   "source": [
    "def fib(n):\n",
    "    f = [0,1,2]\n",
    "#     take the first two fibs so we have f[0] and f[1]\n",
    "\n",
    "    for i in range(3,n+2):\n",
    "#         loop from f[2] to f[n+1]\n",
    "\n",
    "        f.append(f[i-1]+f[i-2]+f[i-3])\n",
    "#     append to the lost the sum of last two f\n",
    "\n",
    "    return f[n]\n",
    "# return the sum at n\n",
    "\n",
    "# 0, 1, 1, 2, 3\n",
    "print(trib(2), trib(3), trib(4), trib(10))"
   ]
  }
 ],
 "metadata": {
  "kernelspec": {
   "display_name": "Python 3 (ipykernel)",
   "language": "python",
   "name": "python3"
  },
  "language_info": {
   "codemirror_mode": {
    "name": "ipython",
    "version": 3
   },
   "file_extension": ".py",
   "mimetype": "text/x-python",
   "name": "python",
   "nbconvert_exporter": "python",
   "pygments_lexer": "ipython3",
   "version": "3.10.6"
  }
 },
 "nbformat": 4,
 "nbformat_minor": 5
}
