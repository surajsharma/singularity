{
 "cells": [
  {
   "cell_type": "markdown",
   "id": "5dae2d8b",
   "metadata": {},
   "source": [
    "# Sorts\n",
    "---\n",
    "\n",
    "## 1. Insertion\n",
    "## 2. Bubble\n",
    "## 3. Selection\n",
    "### 3.1 Selection recursive\n",
    "## 4. Heap Sort\n",
    "## 5. Merge Sort\n",
    "## 6. Shell Sort\n",
    "## 7. Quick Sort\n",
    "## 8. Counting Sort\n",
    "## 9. Radix Sort\n",
    "## 10. Sort three states"
   ]
  },
  {
   "cell_type": "markdown",
   "id": "03f68adb",
   "metadata": {},
   "source": [
    "# 1. Insertion Sort\n",
    "- start looping i from 1 to len, val = e[i]\n",
    "- sliding window from i to i = 0 checks if e[i-1]"
   ]
  },
  {
   "cell_type": "code",
   "execution_count": 15,
   "id": "592c2ce5",
   "metadata": {},
   "outputs": [
    {
     "name": "stdout",
     "output_type": "stream",
     "text": [
      "[0, 1, 6, 7, 8, 8, 9, 9, 23, 45, 67]\n"
     ]
    }
   ],
   "source": [
    "def insertion_sort(arr):\n",
    "    for i in range(1, len(arr)):\n",
    "        val = arr[i]\n",
    "        \n",
    "        while i > 0 and arr[i-1] > val:\n",
    "            arr[i] = arr[i-1]\n",
    "            i = i -1\n",
    "            \n",
    "        arr[i] = val\n",
    "\n",
    "    return arr\n",
    "\n",
    "print(selectionSort([1,8,7,6,9,23,45,67,8,9,0]))"
   ]
  },
  {
   "cell_type": "markdown",
   "id": "97d2e021",
   "metadata": {},
   "source": [
    "# 3. Selection/SHADOW Sort Θ(N²) \n",
    "\n",
    "- works by swapping number at index i with number at index j if j<i\n",
    "\n",
    "- the inner for loop just looks and sets the \"shadow\" index\n",
    "\n",
    "[video](https://www.youtube.com/watch?v=g-PGLbMth_g)"
   ]
  },
  {
   "cell_type": "code",
   "execution_count": 6,
   "id": "3e19d3a9",
   "metadata": {},
   "outputs": [
    {
     "name": "stdout",
     "output_type": "stream",
     "text": [
      "[0, 1, 6, 7, 8, 8, 9, 9, 23, 45, 67]\n"
     ]
    }
   ],
   "source": [
    "def selectionSort(arr):\n",
    "    for i in range(len(arr)):\n",
    "        shadow = i\n",
    "        \n",
    "        for j in range(i+1, len(arr)):\n",
    "            if arr[j] < arr[shadow]:\n",
    "                shadow = j\n",
    "                \n",
    "        arr[i], arr[shadow] = arr[shadow], arr[i]\n",
    "        \n",
    "    return arr\n",
    "\n",
    "print(selectionSort([1,8,7,6,9,23,45,67,8,9,0]))"
   ]
  },
  {
   "cell_type": "code",
   "execution_count": null,
   "id": "8fa875cf",
   "metadata": {},
   "outputs": [],
   "source": []
  }
 ],
 "metadata": {
  "kernelspec": {
   "display_name": "Python 3 (ipykernel)",
   "language": "python",
   "name": "python3"
  },
  "language_info": {
   "codemirror_mode": {
    "name": "ipython",
    "version": 3
   },
   "file_extension": ".py",
   "mimetype": "text/x-python",
   "name": "python",
   "nbconvert_exporter": "python",
   "pygments_lexer": "ipython3",
   "version": "3.10.6"
  }
 },
 "nbformat": 4,
 "nbformat_minor": 5
}
