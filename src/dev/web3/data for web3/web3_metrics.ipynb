{
 "cells": [
  {
   "cell_type": "code",
   "execution_count": 1,
   "id": "0adabac6-18e3-4241-8591-bc99f39043f9",
   "metadata": {},
   "outputs": [],
   "source": [
    "from web3 import Web3\n",
    "from datetime import datetime"
   ]
  },
  {
   "cell_type": "code",
   "execution_count": 2,
   "id": "924a88fe-b5eb-47bf-a210-d3d1b2fc93c8",
   "metadata": {
    "editable": true,
    "slideshow": {
     "slide_type": ""
    },
    "tags": []
   },
   "outputs": [
    {
     "data": {
      "text/plain": [
       "True"
      ]
     },
     "execution_count": 2,
     "metadata": {},
     "output_type": "execute_result"
    }
   ],
   "source": [
    "infura_url= 'https://mainnet.infura.io/v3/5c619862a80846bbb6b6362f09485a2b'\n",
    "web3= Web3(Web3.HTTPProvider (infura_url))\n",
    "web3.is_connected()"
   ]
  },
  {
   "cell_type": "code",
   "execution_count": 3,
   "id": "6f7f56ad-4d44-4f9c-abc7-b337f40dc144",
   "metadata": {},
   "outputs": [],
   "source": [
    "latest = web3.eth.block_number"
   ]
  },
  {
   "cell_type": "code",
   "execution_count": 4,
   "id": "b787f531-e8ab-43ae-b501-acd16f72f4b7",
   "metadata": {},
   "outputs": [
    {
     "name": "stdout",
     "output_type": "stream",
     "text": [
      "The latest block is:  19013136\n"
     ]
    }
   ],
   "source": [
    "print (\"The latest block is: \", latest)"
   ]
  },
  {
   "cell_type": "code",
   "execution_count": 5,
   "id": "fa8ae8ef-2b6b-407c-bb94-fdca052ffe33",
   "metadata": {},
   "outputs": [
    {
     "data": {
      "text/plain": [
       "1705332023"
      ]
     },
     "execution_count": 5,
     "metadata": {},
     "output_type": "execute_result"
    }
   ],
   "source": [
    "block_timestamp= web3.eth.get_block(latest).timestamp\n",
    "block_timestamp"
   ]
  },
  {
   "cell_type": "code",
   "execution_count": 6,
   "id": "06edd976-629b-456b-8155-380a0256afb2",
   "metadata": {},
   "outputs": [
    {
     "name": "stdout",
     "output_type": "stream",
     "text": [
      "2024-01-15 15:20:23\n"
     ]
    }
   ],
   "source": [
    "block_timestamp = int(block_timestamp)\n",
    "print(datetime.utcfromtimestamp(block_timestamp).strftime('%Y-%m-%d %H:%M:%S'))"
   ]
  }
 ],
 "metadata": {
  "kernelspec": {
   "display_name": "Python 3 (ipykernel)",
   "language": "python",
   "name": "python3"
  },
  "language_info": {
   "codemirror_mode": {
    "name": "ipython",
    "version": 3
   },
   "file_extension": ".py",
   "mimetype": "text/x-python",
   "name": "python",
   "nbconvert_exporter": "python",
   "pygments_lexer": "ipython3",
   "version": "3.10.12"
  }
 },
 "nbformat": 4,
 "nbformat_minor": 5
}
