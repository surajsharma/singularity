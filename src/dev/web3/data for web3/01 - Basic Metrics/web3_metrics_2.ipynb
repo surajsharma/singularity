{
 "cells": [
  {
   "cell_type": "code",
   "execution_count": 4,
   "metadata": {},
   "outputs": [
    {
     "data": {
      "text/plain": [
       "True"
      ]
     },
     "execution_count": 4,
     "metadata": {},
     "output_type": "execute_result"
    }
   ],
   "source": [
    "import json\n",
    "from web3 import Web3\n",
    "import requests\n",
    "\n",
    "infura_url= 'https://mainnet.infura.io/v3/5c619862a80846bbb6b6362f09485a2b'\n",
    "web3= Web3(Web3.HTTPProvider (infura_url))\n",
    "web3.is_connected()"
   ]
  },
  {
   "cell_type": "code",
   "execution_count": 6,
   "metadata": {},
   "outputs": [],
   "source": [
    "sc_address=\"0x2260FAC5E5542a773Aa44fBCfeDf7C193bc2C599\"\n",
    "with open (\"w_btcabi.json\") as f:\n",
    "    abi= json.load (f)"
   ]
  },
  {
   "cell_type": "code",
   "execution_count": 7,
   "metadata": {},
   "outputs": [],
   "source": [
    "wbtcContract = web3.eth.contract(address=sc_address, abi=abi)"
   ]
  },
  {
   "cell_type": "code",
   "execution_count": 8,
   "metadata": {},
   "outputs": [
    {
     "data": {
      "text/plain": [
       "15780405371727"
      ]
     },
     "execution_count": 8,
     "metadata": {},
     "output_type": "execute_result"
    }
   ],
   "source": [
    "supply= wbtcContract.functions.totalSupply().call()\n",
    "supply"
   ]
  },
  {
   "cell_type": "code",
   "execution_count": 9,
   "metadata": {},
   "outputs": [
    {
     "data": {
      "text/plain": [
       "8"
      ]
     },
     "execution_count": 9,
     "metadata": {},
     "output_type": "execute_result"
    }
   ],
   "source": [
    "decimals= wbtcContract.functions.decimals().call()\n",
    "decimals"
   ]
  },
  {
   "cell_type": "code",
   "execution_count": 10,
   "metadata": {},
   "outputs": [
    {
     "data": {
      "text/plain": [
       "44398"
      ]
     },
     "execution_count": 10,
     "metadata": {},
     "output_type": "execute_result"
    }
   ],
   "source": [
    "url=\"https://api.coingecko.com/api/v3/simple/token_price/ethereum?contract_addresses=0x2260FAC5E5542a773Aa44fBCfeDf7C193bc2C599&vs_currencies=USD\"\n",
    "response = requests.get(url)\n",
    "data= response.json()\n",
    "price = data[\"0x2260fac5e5542a773aa44fbcfedf7c193bc2c599\"][\"usd\"]\n",
    "price"
   ]
  },
  {
   "cell_type": "code",
   "execution_count": 11,
   "metadata": {},
   "outputs": [
    {
     "data": {
      "text/plain": [
       "7006184376.939353"
      ]
     },
     "execution_count": 11,
     "metadata": {},
     "output_type": "execute_result"
    }
   ],
   "source": [
    "tvl = (supply*10**-decimals)*price\n",
    "tvl"
   ]
  },
  {
   "cell_type": "code",
   "execution_count": 12,
   "metadata": {},
   "outputs": [
    {
     "data": {
      "text/plain": [
       "6952151390.753872"
      ]
     },
     "execution_count": 12,
     "metadata": {},
     "output_type": "execute_result"
    }
   ],
   "source": [
    "url=\"https://api.llama.fi/tvl/wbtc\"\n",
    "response = requests.get(url)\n",
    "data= response.json()\n",
    "data"
   ]
  },
  {
   "cell_type": "code",
   "execution_count": 13,
   "metadata": {},
   "outputs": [
    {
     "data": {
      "text/plain": [
       "[<Function mintingFinished()>,\n",
       " <Function name()>,\n",
       " <Function approve(address,uint256)>,\n",
       " <Function reclaimToken(address)>,\n",
       " <Function totalSupply()>,\n",
       " <Function transferFrom(address,address,uint256)>,\n",
       " <Function decimals()>,\n",
       " <Function unpause()>,\n",
       " <Function mint(address,uint256)>,\n",
       " <Function burn(uint256)>,\n",
       " <Function claimOwnership()>,\n",
       " <Function paused()>,\n",
       " <Function decreaseApproval(address,uint256)>,\n",
       " <Function balanceOf(address)>,\n",
       " <Function renounceOwnership()>,\n",
       " <Function finishMinting()>,\n",
       " <Function pause()>,\n",
       " <Function owner()>,\n",
       " <Function symbol()>,\n",
       " <Function transfer(address,uint256)>,\n",
       " <Function increaseApproval(address,uint256)>,\n",
       " <Function allowance(address,address)>,\n",
       " <Function pendingOwner()>,\n",
       " <Function transferOwnership(address)>]"
      ]
     },
     "execution_count": 13,
     "metadata": {},
     "output_type": "execute_result"
    }
   ],
   "source": [
    "wbtcContract.all_functions()\n"
   ]
  },
  {
   "cell_type": "code",
   "execution_count": null,
   "metadata": {},
   "outputs": [],
   "source": []
  }
 ],
 "metadata": {
  "kernelspec": {
   "display_name": "Python 3",
   "language": "python",
   "name": "python3"
  },
  "language_info": {
   "codemirror_mode": {
    "name": "ipython",
    "version": 3
   },
   "file_extension": ".py",
   "mimetype": "text/x-python",
   "name": "python",
   "nbconvert_exporter": "python",
   "pygments_lexer": "ipython3",
   "version": "3.10.12"
  }
 },
 "nbformat": 4,
 "nbformat_minor": 2
}
