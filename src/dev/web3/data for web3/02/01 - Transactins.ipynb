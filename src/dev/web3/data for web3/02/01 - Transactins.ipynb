{
 "cells": [
  {
   "cell_type": "code",
   "execution_count": null,
   "metadata": {},
   "outputs": [],
   "source": [
    "from web3 import Web3\n",
    "from datetime import datetime\n",
    "import pandas as pd\n",
    "import json"
   ]
  },
  {
   "cell_type": "code",
   "execution_count": null,
   "metadata": {},
   "outputs": [],
   "source": [
    "infura_url= 'https://mainnet.infura.io/v3/5c619862a80846bbb6b6362f09485a2b'\n",
    "web3= Web3(Web3.HTTPProvider (infura_url))\n",
    "web3.is_connected()"
   ]
  },
  {
   "cell_type": "markdown",
   "metadata": {},
   "source": [
    "# Get Address from transaction hex"
   ]
  },
  {
   "cell_type": "code",
   "execution_count": null,
   "metadata": {},
   "outputs": [],
   "source": [
    "address= web3.to_checksum_address(\"0x1ad91ee08f21be3de0ba2ba6918e714da6b45836\")\n",
    "transaction= '0x032ed60363beb809a2b9c9790bb7dadd83b743040945a087aeecbe9e6b2dc2af'"
   ]
  },
  {
   "cell_type": "markdown",
   "metadata": {},
   "source": [
    "# Get Nonce\n",
    "\n",
    "## A nonce is a cumulative number that keeps track\n",
    "\n",
    "of the total transactions sent by the executing address. Smart contracts also have a nonce that keeps track of the number of contract creations.\n",
    "\n",
    "The Ethereum Yellow Paper defines it as follows: `nonce: A scalar value equal to the number of\n",
    "transactions sent from this address or, in the case of accounts with associated code, the number of contract-creations made by this account.`\n",
    "\n",
    "the nonce provides information about the sending address. It serves two purposes:\n",
    "\n",
    "- establishes the order of transaction processing for each address.\n",
    "A transaction with a higher nonce number will not be processed\n",
    "until all transactions with smaller nonces have been validated.\n",
    "\n",
    "- identifies a transaction. Multiple transactions with the same\n",
    "nonce can be sent to mempool, but once a transaction with a\n",
    "particular nonce is added to the blockchain, subsequent\n",
    "transactions with the same nonce will not be processed."
   ]
  },
  {
   "cell_type": "code",
   "execution_count": null,
   "metadata": {},
   "outputs": [],
   "source": [
    "next_nonce= web3.eth.get_transaction_count(address)\n",
    "next_nonce"
   ]
  },
  {
   "cell_type": "code",
   "execution_count": null,
   "metadata": {},
   "outputs": [],
   "source": [
    "transaction_nonce= web3.eth.get_transaction(transaction).nonce\n",
    "transaction_nonce"
   ]
  },
  {
   "cell_type": "markdown",
   "metadata": {},
   "source": [
    "# Gas price (gasPrice, as seen in Figure 2.2) \n",
    "\n",
    "- is determined by the sender of the transaction and\n",
    "represents the price they are willing to pay for\n",
    "each unit of gas.\n",
    "\n",
    "- Transactions with higher gas prices are prioritized for confirmation.\n",
    "\n",
    "- The gas price is denoted in Wei per unit of gas. "
   ]
  },
  {
   "cell_type": "code",
   "execution_count": 55,
   "metadata": {},
   "outputs": [
    {
     "data": {
      "text/plain": [
       "19209576968"
      ]
     },
     "execution_count": 55,
     "metadata": {},
     "output_type": "execute_result"
    }
   ],
   "source": [
    "gasPrice= web3.eth.get_transaction(transaction).gasPrice\n",
    "gasPrice"
   ]
  },
  {
   "cell_type": "markdown",
   "metadata": {},
   "source": [
    "# Gas limit\n",
    "\n",
    "## Gas limit (or gas) represents the maximum number of gas units (money invested) that the sender is willing to spend on the transaction. It is the upper limit of gas consumption for a transaction."
   ]
  },
  {
   "cell_type": "code",
   "execution_count": null,
   "metadata": {},
   "outputs": [],
   "source": [
    "gaslimit= web3.eth.get_transaction(transaction).gas\n",
    "gaslimit"
   ]
  },
  {
   "cell_type": "code",
   "execution_count": null,
   "metadata": {},
   "outputs": [],
   "source": [
    "gasUsed= web3.eth.get_transaction_receipt (transaction).gasUsed\n",
    "gasUsed"
   ]
  },
  {
   "cell_type": "markdown",
   "metadata": {},
   "source": [
    "# recepient\n",
    "\n",
    "Depending on what information this field has, we\n",
    "can classify transactions into these categories:\n",
    "\n",
    "- • Regular: A transaction from one address to another address.\n",
    "\n",
    "- • Contract deployment: A transaction where the to field is null\n",
    "and where the data field is used for the contract code. In this\n",
    "case, the sender is creating a smart contract.\n",
    "- • Execution of a contract: The to field is a smart contract address,\n",
    "and therefore the transaction represents the interaction with a\n",
    "deployed smart contract."
   ]
  },
  {
   "cell_type": "code",
   "execution_count": null,
   "metadata": {},
   "outputs": [],
   "source": [
    "recipient= web3.eth.get_transaction(transaction).to\n",
    "recipient"
   ]
  },
  {
   "cell_type": "code",
   "execution_count": null,
   "metadata": {},
   "outputs": [],
   "source": [
    "sender= web3.eth.get_transaction(transaction)[\"from\"]\n",
    "sender"
   ]
  },
  {
   "cell_type": "markdown",
   "metadata": {},
   "source": [
    "## The value of the transaction is expressed in wei, which can be converted to ether by multiplying it by 10**-18 or with web3.fromWei('value','ether')"
   ]
  },
  {
   "cell_type": "code",
   "execution_count": null,
   "metadata": {},
   "outputs": [],
   "source": [
    "value= web3.eth.get_transaction(transaction).value\n",
    "value*10**-18"
   ]
  },
  {
   "cell_type": "markdown",
   "metadata": {},
   "source": [
    "## Retrieve the input data in a given transaction using the web3.eth.get_transaction() method specifying the input property."
   ]
  },
  {
   "cell_type": "code",
   "execution_count": null,
   "metadata": {},
   "outputs": [],
   "source": [
    "data= web3.eth.get_transaction(transaction).input\n",
    "data"
   ]
  },
  {
   "cell_type": "code",
   "execution_count": null,
   "metadata": {},
   "outputs": [],
   "source": [
    "transaction_ba='0xb3827bb3cca1a693ec69edb744755f64d8ff8c90f89f69cbfbfafd17b0083159'"
   ]
  },
  {
   "cell_type": "code",
   "execution_count": null,
   "metadata": {},
   "outputs": [],
   "source": [
    "data_ba= web3.eth.get_transaction(transaction_ba).input\n",
    "data_ba"
   ]
  },
  {
   "cell_type": "code",
   "execution_count": null,
   "metadata": {},
   "outputs": [],
   "source": [
    "bored_ape= web3.eth.get_transaction(transaction_ba)"
   ]
  },
  {
   "cell_type": "code",
   "execution_count": null,
   "metadata": {},
   "outputs": [],
   "source": [
    "sc_address=\"0xBC4CA0EdA7647A8aB7C2061c2E118A18a936f13D\"\n",
    "with open (\"./ba_abi.json\") as f:\n",
    "    abi= json.load (f)\n",
    "\n",
    "\n",
    "# There are alternative tools to retrieve the ABI when the code is not verified. These tools,although still in beta, are listed in the Further reading section."
   ]
  },
  {
   "cell_type": "code",
   "execution_count": null,
   "metadata": {},
   "outputs": [],
   "source": [
    "baContract = web3.eth.contract(address=sc_address, abi=abi)"
   ]
  },
  {
   "cell_type": "code",
   "execution_count": 56,
   "metadata": {},
   "outputs": [
    {
     "name": "stdout",
     "output_type": "stream",
     "text": [
      "<Function mintApe(uint256)> parameters:  {'numberOfTokens': 1}\n"
     ]
    }
   ],
   "source": [
    "function, parameters = baContract.decode_function_input(bored_ape[\"input\"])\n",
    "print (function, 'parameters: ',parameters )"
   ]
  },
  {
   "cell_type": "markdown",
   "metadata": {},
   "source": [
    "### As we can see, the mintApe function was triggered by this transaction, and Ape 6633 was born."
   ]
  },
  {
   "cell_type": "markdown",
   "metadata": {},
   "source": [
    "### V,R,S\n",
    "These are the components of the signature by the\n",
    "from address. The digital signature gives validity\n",
    "that the message sent was executed by the\n",
    "originating address. `For more on this matter, you\n",
    "can read the Mastering Ethereum book`. Depending\n",
    "on where we obtain our transaction data, we may\n",
    "not encounter this field (for example, Covalent\n",
    "does not provide it when querying for a specific\n",
    "transaction)."
   ]
  },
  {
   "cell_type": "markdown",
   "metadata": {},
   "source": [
    "### Transaction receipt\n",
    "\n",
    "Once the transaction is executed, we gain access\n",
    "to a valuable source of information, called a\n",
    "transaction receipt. This receipt stores\n",
    "information that results from executing the\n",
    "transaction.\n",
    "Of particular interest to us are the following\n",
    "fields: `status`, `gasUsed`, `cumulativeGasUsed`, and\n",
    "`logs`."
   ]
  },
  {
   "cell_type": "markdown",
   "metadata": {},
   "source": [
    "### Gas used and Cumulative gas used\n",
    "The Gas used field represents the amount of gas\n",
    "that was actually consumed by the transaction.\n",
    "This value will be below the gas limit. We can\n",
    "retrieve it with the following code:"
   ]
  },
  {
   "cell_type": "code",
   "execution_count": 58,
   "metadata": {},
   "outputs": [
    {
     "data": {
      "text/plain": [
       "21000"
      ]
     },
     "execution_count": 58,
     "metadata": {},
     "output_type": "execute_result"
    }
   ],
   "source": [
    "web3.eth.get_transaction_receipt(transaction).gasUsed"
   ]
  },
  {
   "cell_type": "markdown",
   "metadata": {},
   "source": [
    "Additionally, we have the Cumulative gas used\n",
    "field, which provides the total amount of gas\n",
    "consumed by all previous transactions within the\n",
    "same block, including the transaction under\n",
    "analysis.\n",
    "\n",
    "Gas prices are crucial data points that analysts\n",
    "often consider. These fields represent the actual\n",
    "cost of using the blockchain for a specific\n",
    "transaction. Analyzing gas costs can help answer\n",
    "questions such as: What is the best time of the\n",
    "day to execute a set of transactions? When should\n",
    "we deploy a set of smart contracts to minimize\n",
    "gas expenses?.... and so on."
   ]
  },
  {
   "cell_type": "markdown",
   "metadata": {},
   "source": [
    "# Logs"
   ]
  },
  {
   "cell_type": "markdown",
   "metadata": {},
   "source": [
    "Any change on the blockchain can be stored in\n",
    "state data or event logs. The latter is less\n",
    "expensive and provides a very rich source of\n",
    "information."
   ]
  },
  {
   "cell_type": "markdown",
   "metadata": {},
   "source": [
    "In the context of smart contract operations, logs\n",
    "are short pieces of information that record\n",
    "specific events at a given point in time."
   ]
  },
  {
   "cell_type": "markdown",
   "metadata": {},
   "source": [
    "An event log, or log record, can be created by\n",
    "providing specific instructions to the EVM. These\n",
    "instructions are known as opcodes, and there are\n",
    "five opcodes that emit event logs. The Ethereum\n",
    "Yellow Paper provides more information about\n",
    "opcodes under the title Logging operations"
   ]
  },
  {
   "cell_type": "markdown",
   "metadata": {},
   "source": [
    "Log events consist of two components: topics and\n",
    "data. When examining the source code, we will\n",
    "find that log events are preceded by the `event` or\n",
    "`emit` keyword."
   ]
  },
  {
   "cell_type": "markdown",
   "metadata": {},
   "source": [
    "### Topics describe the nature of an event and can include up to a maximum of four topics per log.\n",
    "Typically, topics consist of the event’s signature\n",
    "or name, along with the type of parameters\n",
    "passed.\n",
    "\n",
    "Topics are searchable but limited in terms of the\n",
    "number of bytes they can include. As a result, the\n",
    "information contained within topics is usually\n",
    "referential. In the context of a Python dictionary,\n",
    "topics can be considered as keys.\n",
    "\n",
    "### Data, the other component, has no such limit in\n",
    "terms of number of bytes and is less expensive to\n",
    "store on the blockchain. This allows for more\n",
    "flexibility in the information that can be\n",
    "included, such as larger strings. If we were to\n",
    "compare this with a Python dictionary, data\n",
    "would correspond to the values.\n",
    "\n",
    "Let’s continue the examination of the minting of\n",
    "Bored Ape 6633. Depending on the data provider\n",
    "we use to query the blockchain, we may receive\n",
    "the logs already decoded or we might need to\n",
    "decode them ourselves. To be able to decode\n",
    "them, we will need the ABI, as extracted in the\n",
    "previously analyzed Input data section. The code\n",
    "essentially compares events from the ABI with\n",
    "events from the log.\n",
    "\n",
    "If there is a match, the code\n",
    "translates the log."
   ]
  },
  {
   "cell_type": "markdown",
   "metadata": {},
   "source": [
    "the entire\n",
    "process, which is summarized in the following\n",
    "steps:\n",
    "1. Creates a list of events from the contract.\n",
    "2. Generates a hexadecimal value for each event extracted from the\n",
    "ABI.\n",
    "3. Extracts the receipt for the transaction.\n",
    "4. Iterates through each log and compares the hexadecimal value of\n",
    "the first parameter of the log (the topic) with the list created in step\n",
    "2. If there is a match, the code uses the name within the\n",
    "`process_receipt` function, and it will return a tuple with the\n",
    "decoded logs"
   ]
  },
  {
   "cell_type": "markdown",
   "metadata": {},
   "source": [
    "# Decoding Events\n",
    "\n",
    "## Create a list of events listed in the the object baContract. Loop through the abi_events list and create a dictionary called event_abi_hex. The dictionary will contain the event name as the key and the event ABI in hexadecimal format as the value."
   ]
  },
  {
   "cell_type": "code",
   "execution_count": null,
   "metadata": {},
   "outputs": [],
   "source": [
    "abi_events = [abi for abi in baContract.abi if abi[\"type\"] == \"event\"]\n",
    "event_abi_hex = {}\n",
    "for event in abi_events:\n",
    "    name = event[\"name\"]\n",
    "    inputs = \",\".join([param[\"type\"] for param in event[\"inputs\"]])\n",
    "    event_abi_human = f\"{name}({inputs})\"\n",
    "    event_abi_hex[name] = web3.to_hex(web3.keccak(text=event_abi_human))"
   ]
  },
  {
   "cell_type": "markdown",
   "metadata": {},
   "source": [
    "## Retrieve the transaction receipt for the transaction_ba and loop through the logs in the receipt. For each log, it will get the event in hexadecimal format from the first topic and then compare it to the event_abi_hex dictionary. If a match is found, it will decode the log using processReceipt(tx_receipt)"
   ]
  },
  {
   "cell_type": "code",
   "execution_count": null,
   "metadata": {},
   "outputs": [],
   "source": [
    "tx_receipt = web3.eth.get_transaction_receipt(transaction_ba)\n",
    "decoded_logs = []\n",
    "for log in tx_receipt['logs']:\n",
    "    event_hex = web3.to_hex(log['topics'][0])\n",
    "    event_name = None\n",
    "    for name, hex_value in event_abi_hex.items():\n",
    "        if hex_value == event_hex:\n",
    "            event_name = name\n",
    "            break\n",
    "    if event_name is not None:\n",
    "        decoded_log = baContract.events[event_name]().process_receipt(tx_receipt)\n",
    "        decoded_logs.append(decoded_log)\n",
    "decoded_logs"
   ]
  }
 ],
 "metadata": {
  "kernelspec": {
   "display_name": "Python 3",
   "language": "python",
   "name": "python3"
  },
  "language_info": {
   "codemirror_mode": {
    "name": "ipython",
    "version": 3
   },
   "file_extension": ".py",
   "mimetype": "text/x-python",
   "name": "python",
   "nbconvert_exporter": "python",
   "pygments_lexer": "ipython3",
   "version": "3.10.12"
  }
 },
 "nbformat": 4,
 "nbformat_minor": 2
}
